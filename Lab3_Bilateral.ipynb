{
  "nbformat": 4,
  "nbformat_minor": 0,
  "metadata": {
    "colab": {
      "provenance": [],
      "gpuType": "T4",
      "include_colab_link": true
    },
    "kernelspec": {
      "name": "python3",
      "display_name": "Python 3"
    },
    "language_info": {
      "name": "python"
    },
    "accelerator": "GPU"
  },
  "cells": [
    {
      "cell_type": "markdown",
      "metadata": {
        "id": "view-in-github",
        "colab_type": "text"
      },
      "source": [
        "<a href=\"https://colab.research.google.com/github/VetaAgafonova/HPC_labs/blob/Bilateral/Lab3_Bilateral.ipynb\" target=\"_parent\"><img src=\"https://colab.research.google.com/assets/colab-badge.svg\" alt=\"Open In Colab\"/></a>"
      ]
    },
    {
      "cell_type": "code",
      "metadata": {
        "id": "AA1gwkzLIyB6",
        "colab": {
          "base_uri": "https://localhost:8080/"
        },
        "outputId": "f938e58c-8169-482b-d5bd-64190d05ab5d"
      },
      "source": [
        "!pip install pycuda"
      ],
      "execution_count": 90,
      "outputs": [
        {
          "output_type": "stream",
          "name": "stdout",
          "text": [
            "Requirement already satisfied: pycuda in /usr/local/lib/python3.10/dist-packages (2023.1)\n",
            "Requirement already satisfied: pytools>=2011.2 in /usr/local/lib/python3.10/dist-packages (from pycuda) (2023.1.1)\n",
            "Requirement already satisfied: appdirs>=1.4.0 in /usr/local/lib/python3.10/dist-packages (from pycuda) (1.4.4)\n",
            "Requirement already satisfied: mako in /usr/local/lib/python3.10/dist-packages (from pycuda) (1.3.0)\n",
            "Requirement already satisfied: platformdirs>=2.2.0 in /usr/local/lib/python3.10/dist-packages (from pytools>=2011.2->pycuda) (3.11.0)\n",
            "Requirement already satisfied: typing-extensions>=4.0 in /usr/local/lib/python3.10/dist-packages (from pytools>=2011.2->pycuda) (4.5.0)\n",
            "Requirement already satisfied: MarkupSafe>=0.9.2 in /usr/local/lib/python3.10/dist-packages (from mako->pycuda) (2.1.3)\n"
          ]
        }
      ]
    },
    {
      "cell_type": "code",
      "metadata": {
        "id": "Orp2A7sQqqXl"
      },
      "source": [
        "from pycuda import driver, compiler, gpuarray\n",
        "import pycuda.autoinit\n",
        "import numpy as np\n",
        "import cv2\n",
        "import time\n",
        "from google.colab.patches import cv2_imshow\n",
        "from pycuda.compiler import SourceModule\n",
        "from google.colab import drive"
      ],
      "execution_count": 91,
      "outputs": []
    },
    {
      "cell_type": "code",
      "metadata": {
        "id": "4H47SzdOsyyV"
      },
      "source": [
        "def bilateral_CPU(image, sigma_d, sigma_r, window_size):\n",
        "    cpu_img = np.zeros(image.shape)\n",
        "    width, height = image.shape\n",
        "    half_window = window_size // 2\n",
        "    for i in range(half_window, width - half_window):\n",
        "        for j in range(half_window, height - half_window):\n",
        "          s = c = 0\n",
        "          for k in range(i - half_window, i + half_window + 1):\n",
        "              for l in range(j - half_window, j + half_window + 1):\n",
        "                  if k >= 0 and k < width and l >= 0 and l < height:\n",
        "                      g = np.exp(-((k - i) ** 2 + (l - j) ** 2) / sigma_d ** 2)\n",
        "                      r = np.exp(-((image[k, l] - image[i, j]) ** 2) / sigma_r ** 2)\n",
        "                      c += g * r\n",
        "                      s += g * r * image[k, l]\n",
        "          cpu_img[i, j] = s / c\n",
        "    return cpu_img"
      ],
      "execution_count": 92,
      "outputs": []
    },
    {
      "cell_type": "code",
      "metadata": {
        "id": "womyko8oszJU"
      },
      "source": [
        "def bilateral_filter(image, sigma_d, sigma_r, window_size):\n",
        "    M, N = image.shape\n",
        "    gpu_img = np.zeros((M, N), dtype=np.uint32)\n",
        "    block = (32, 1, 1)\n",
        "    grid = (int(np.ceil(M/block[0])), int(np.ceil(N/block[1])))\n",
        "\n",
        "    bilateral_GPU = SourceModule(\"\"\"\n",
        "    texture<unsigned int, 2, cudaReadModeElementType> t;\n",
        "\n",
        "    __global__ void kernel_gpu(int *  res, const int M, const int N, const int window_size, const float sigma_d, const float sigma_r)\n",
        "    {\n",
        "        int i = threadIdx.x + blockDim.x * blockIdx.x;\n",
        "        int j = threadIdx.y + blockDim.y * blockIdx.y;\n",
        "\n",
        "        if (i >= M || j >= N)\n",
        "          return;\n",
        "\n",
        "        float firstImg, secondImg, g, r, s = 0, c = 0;\n",
        "\n",
        "        int half_window = window_size / 2;\n",
        "\n",
        "        for (int l = i - half_window; l <= i + half_window; l++){\n",
        "            for (int k = j - half_window; k <= j + half_window; k++){\n",
        "                if (l >= 0 && l < M && k >= 0 && k < N) {\n",
        "                    firstImg = tex2D(t, k, l) / 255;\n",
        "                    secondImg = tex2D(t, i, j) / 255;\n",
        "                    g = exp(-(pow(k - i, 2) + pow(l - j, 2)) / pow(sigma_d, 2));\n",
        "                    r = exp(-pow((firstImg - secondImg) * 255, 2) / pow(sigma_r, 2));\n",
        "                    c += g * r;\n",
        "                    s += g * r * tex2D(t, k, l);\n",
        "                }\n",
        "            }\n",
        "        }\n",
        "\n",
        "        res[i * N + j] = s / c;\n",
        "    }\n",
        "    \"\"\")\n",
        "\n",
        "    kernel_gpu = bilateral_GPU.get_function(\"kernel_gpu\")\n",
        "    t = bilateral_GPU.get_texref(\"t\")\n",
        "    t.set_filter_mode(driver.filter_mode.LINEAR)\n",
        "    t.set_address_mode(0, driver.address_mode.MIRROR)\n",
        "    t.set_address_mode(1, driver.address_mode.MIRROR)\n",
        "    driver.matrix_to_texref(image.astype(np.uint32), t, order=\"C\")\n",
        "    kernel_gpu(driver.Out(gpu_img), np.int32(M), np.int32(N), np.int32(window_size), np.float32(sigma_d), np.float32(sigma_r), block=block, grid=grid, texrefs=[t])\n",
        "\n",
        "    return gpu_img"
      ],
      "execution_count": 93,
      "outputs": []
    },
    {
      "cell_type": "code",
      "source": [
        "img = cv2.imread('/content/drive/MyDrive/img/cat1.bmp', cv2.IMREAD_GRAYSCALE)\n",
        "\n",
        "sigma_d = 400\n",
        "sigma_r = 400\n",
        "window_size = 4\n",
        "\n",
        "print(\"Cat\")\n",
        "cv2_imshow(img)\n",
        "\n",
        "cpu_start = time.time()\n",
        "cpu_img = bilateral_CPU(img, sigma_d, sigma_r, window_size)\n",
        "cpu_time = time.time() - cpu_start\n",
        "cv2.imwrite('/content/drive/MyDrive/img/cat1_cpu.bmp', cpu_img)\n",
        "print(\"Cat CPU\")\n",
        "cv2_imshow(cpu_img)\n",
        "print('Time CPU: ', cpu_time)\n",
        "\n",
        "gpu_start = time.time()\n",
        "gpu_img = bilateral_filter(img, sigma_d, sigma_r, window_size)\n",
        "gpu_time = time.time() - gpu_start\n",
        "print(\"Cat GPU\")\n",
        "cv2.imwrite('/content/drive/MyDrive/img/cat1_gpu.bmp', gpu_img.astype(np.uint8))\n",
        "cv2_imshow(gpu_img)\n",
        "print('Time GPU: ', gpu_time)"
      ],
      "metadata": {
        "id": "AjKfpEbPhq8E",
        "colab": {
          "base_uri": "https://localhost:8080/",
          "height": 288
        },
        "outputId": "1c6d2cee-2875-4f1f-b878-168e64a691ff"
      },
      "execution_count": 94,
      "outputs": [
        {
          "output_type": "stream",
          "name": "stdout",
          "text": [
            "Cat\n"
          ]
        },
        {
          "output_type": "display_data",
          "data": {
            "text/plain": [
              "<PIL.Image.Image image mode=L size=50x50>"
            ],
            "image/png": "[encoded data removed]"
          },
          "metadata": {}
        },
        {
          "output_type": "stream",
          "name": "stderr",
          "text": [
            "<ipython-input-92-689d7e21db7e>:12: RuntimeWarning: overflow encountered in ubyte_scalars\n",
            "  r = np.exp(-((image[k, l] - image[i, j]) ** 2) / sigma_r ** 2)\n"
          ]
        },
        {
          "output_type": "stream",
          "name": "stdout",
          "text": [
            "Cat CPU\n"
          ]
        },
        {
          "output_type": "display_data",
          "data": {
            "text/plain": [
              "<PIL.Image.Image image mode=L size=50x50>"
            ],
            "image/png": "[encoded data removed]"
          },
          "metadata": {}
        },
        {
          "output_type": "stream",
          "name": "stdout",
          "text": [
            "Time CPU:  1.9675335884094238\n",
            "Cat GPU\n"
          ]
        },
        {
          "output_type": "display_data",
          "data": {
            "text/plain": [
              "<PIL.Image.Image image mode=L size=50x50>"
            ],
            "image/png": "[encoded data removed]"
          },
          "metadata": {}
        },
        {
          "output_type": "stream",
          "name": "stdout",
          "text": [
            "Time GPU:  0.0038857460021972656\n"
          ]
        }
      ]
    }
  ]
}