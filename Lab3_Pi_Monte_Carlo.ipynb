{
  "nbformat": 4,
  "nbformat_minor": 0,
  "metadata": {
    "colab": {
      "provenance": [],
      "gpuType": "T4",
      "authorship_tag": "ABX9TyOs1nNnW6zX76dGg2JW2VEE",
      "include_colab_link": true
    },
    "kernelspec": {
      "name": "python3",
      "display_name": "Python 3"
    },
    "language_info": {
      "name": "python"
    },
    "accelerator": "GPU"
  },
  "cells": [
    {
      "cell_type": "markdown",
      "metadata": {
        "id": "view-in-github",
        "colab_type": "text"
      },
      "source": [
        "<a href=\"https://colab.research.google.com/github/VetaAgafonova/HPC_labs/blob/PiMonteCarlo/Lab3_Pi_Monte_Carlo.ipynb\" target=\"_parent\"><img src=\"https://colab.research.google.com/assets/colab-badge.svg\" alt=\"Open In Colab\"/></a>"
      ]
    },
    {
      "cell_type": "code",
      "execution_count": 2,
      "metadata": {
        "colab": {
          "base_uri": "https://localhost:8080/"
        },
        "id": "QDL0WydBTmG3",
        "outputId": "795d0119-ff0c-42c5-ef83-8750f5966f36"
      },
      "outputs": [
        {
          "output_type": "stream",
          "name": "stdout",
          "text": [
            "nvcc: NVIDIA (R) Cuda compiler driver\n",
            "Copyright (c) 2005-2022 NVIDIA Corporation\n",
            "Built on Wed_Sep_21_10:33:58_PDT_2022\n",
            "Cuda compilation tools, release 11.8, V11.8.89\n",
            "Build cuda_11.8.r11.8/compiler.31833905_0\n",
            "Collecting git+https://github.com/andreinechaev/nvcc4jupyter.git\n",
            "  Cloning https://github.com/andreinechaev/nvcc4jupyter.git to /tmp/pip-req-build-ur4ir9_h\n",
            "  Running command git clone --filter=blob:none --quiet https://github.com/andreinechaev/nvcc4jupyter.git /tmp/pip-req-build-ur4ir9_h\n",
            "  Resolved https://github.com/andreinechaev/nvcc4jupyter.git to commit 0a71d56e5dce3ff1f0dd2c47c29367629262f527\n",
            "  Preparing metadata (setup.py) ... \u001b[?25l\u001b[?25hdone\n",
            "Building wheels for collected packages: NVCCPlugin\n",
            "  Building wheel for NVCCPlugin (setup.py) ... \u001b[?25l\u001b[?25hdone\n",
            "  Created wheel for NVCCPlugin: filename=NVCCPlugin-0.0.2-py3-none-any.whl size=4295 sha256=1a69335f1d8808a31c8c22fd2e5c2a370969b465c2652d8d93bf35927756170d\n",
            "  Stored in directory: /tmp/pip-ephem-wheel-cache-z2wbfyqd/wheels/a8/b9/18/23f8ef71ceb0f63297dd1903aedd067e6243a68ea756d6feea\n",
            "Successfully built NVCCPlugin\n",
            "Installing collected packages: NVCCPlugin\n",
            "Successfully installed NVCCPlugin-0.0.2\n",
            "created output directory at /content/src\n",
            "Out bin /content/result.out\n",
            "/bin/bash: line 1: cuda-install-samples-11.2.sh: command not found\n"
          ]
        }
      ],
      "source": [
        "!/usr/local/cuda/bin/nvcc --version\n",
        "!pip install git+https://github.com/andreinechaev/nvcc4jupyter.git\n",
        "%load_ext nvcc_plugin\n",
        "!cuda-install-samples-11.2.sh ~ && cd /root/NVIDIA_CUDA-11.2_Samples/"
      ]
    },
    {
      "cell_type": "code",
      "source": [
        "%%cuda --name curand.cu\n",
        "#include <stdio.h>\n",
        "#include <iostream>\n",
        "#include <cstdlib>\n",
        "#include <curand.h>\n",
        "#include <cublas_v2.h>\n",
        "#include <random>\n",
        "#define BLOCK_DIM_X 1000\n",
        "using namespace std;\n",
        "\n",
        "//Функция случайной генерации чисел на GPU\n",
        "void GPU_fill_rand(float *A, int N) {\n",
        "    // Create a pseudo-random number generator\n",
        "    curandGenerator_t prng;\n",
        "    curandCreateGenerator(&prng, CURAND_RNG_PSEUDO_DEFAULT);\n",
        "    // Set the seed for the random number generator using the system clock\n",
        "    curandSetPseudoRandomGeneratorSeed(prng, (unsigned long long) clock());\n",
        "    // Fill the array with random numbers on the device\n",
        "    curandGenerateUniform(prng, A, N);\n",
        "}\n",
        "\n",
        "\n",
        "float pi_monte_carlo_cpu(float* x, float* y, int n) {\n",
        "    float sum = 0;//кол-во точек лежащих в окружности\n",
        "    float v;\n",
        "    for(int i = 0; i<n; i++){\n",
        "        v = x[i]*x[i] + y[i]*y[i];\n",
        "        if(v < 1) sum++;\n",
        "    }\n",
        "    return sum*4/n;\n",
        "}\n",
        "\n",
        "__global__ void pi_monte_carlo_gpu(float* x, float* y, int n, float* res)\n",
        "{\n",
        "    __shared__ float v[BLOCK_DIM_X];\n",
        "    int idx = threadIdx.x + blockIdx.x * blockDim.x;\n",
        "    if (idx < n) {\n",
        "        v[threadIdx.x] = x[idx]*x[idx] + y[idx]*y[idx];\n",
        "    }\n",
        "    __syncthreads();\n",
        "    if (threadIdx.x == 0) {\n",
        "        float summ = 0;\n",
        "        for (int i = 0; i < blockDim.x; ++i)\n",
        "            if(v[i] < 1) summ++;\n",
        "\n",
        "        atomicAdd(res, 4*summ/n);\n",
        "    }\n",
        "}\n",
        "\n",
        "int main() {\n",
        "    int N = 1000; //количество точек\n",
        "    cout << \"N = \" << N;\n",
        "    float pi_cpu;\n",
        "    //Выделение памяти на CPU\n",
        "    float *X = (float *)malloc(N * sizeof(float)); //координата точки X\n",
        "    float *Y = (float *)malloc(N * sizeof(float)); //координата точки Y\n",
        "    //Выделение памяти на GPU\n",
        "    float *d_X, *d_Y;\n",
        "    cudaMalloc(&d_X, N * sizeof(float));\n",
        "    cudaMalloc(&d_Y, N* sizeof(float));\n",
        "    //Заполнение массивов случайными числами на GPU\n",
        "    GPU_fill_rand(d_X, N);\n",
        "    GPU_fill_rand(d_Y, N);\n",
        "    //Копирование данных на CPU\n",
        "    cudaMemcpy(X, d_X, N * sizeof(float),cudaMemcpyDeviceToHost);\n",
        "    cudaMemcpy(Y, d_Y, N * sizeof(float),cudaMemcpyDeviceToHost);\n",
        "\n",
        "    srand(time(0));\n",
        "    clock_t start, end;\n",
        "    start = clock();\n",
        "    //Вычисление значения числа пи на CPU\n",
        "    pi_cpu = pi_monte_carlo_cpu(X, Y, N);\n",
        "    end = clock();\n",
        "    double time_cpu = static_cast <double>(end - start) / static_cast <double>(CLOCKS_PER_SEC);\n",
        "    cout << \"\\nPI CPU = \" << pi_cpu << \"\\tCPU time = \" << time_cpu;\n",
        "////////////////////////////////////////////////////////////////////////////////////////////////////////////////////////\n",
        "    float* pi_gpu = new float;\n",
        "    *pi_gpu = 0;\n",
        "    float* d_pi;\n",
        "    cudaMalloc(&d_pi, sizeof(float));\n",
        "    cudaMemcpy(d_pi, pi_gpu, sizeof(float), cudaMemcpyHostToDevice);\n",
        "\n",
        "    dim3 block_dim(BLOCK_DIM_X);\n",
        "    dim3 grid_dim(ceil(static_cast <float> (N) / static_cast <float> (block_dim.x)));\n",
        "\n",
        "    cudaEvent_t begin, stop;\n",
        "    cudaEventCreate(&begin);\n",
        "    cudaEventCreate(&stop);\n",
        "\n",
        "    cudaEventRecord(begin, 0);\n",
        "    pi_monte_carlo_gpu << <grid_dim, block_dim >> > (d_X, d_Y, N, d_pi);\n",
        "    cudaEventRecord(stop, 0);\n",
        "    cudaEventSynchronize(stop);\n",
        "    float gpu_time;\n",
        "    cudaEventElapsedTime(&gpu_time, begin, stop);\n",
        "\n",
        "    cudaMemcpy(pi_gpu, d_pi, sizeof(float), cudaMemcpyDeviceToHost);\n",
        "    cout << \"\\nPI GPU = \" << *pi_gpu << \"\\tGPU time = \" << gpu_time / 1000.;\n",
        "\n",
        "    //Освобождение памяти на GPU\n",
        "    cudaFree(d_X);\n",
        "    cudaFree(d_Y);\n",
        "    cudaFree(d_pi);\n",
        "    //Освобождение памяти на CPU\n",
        "    free(X);\n",
        "    free(Y);\n",
        "    return 0;\n",
        "}\n",
        "\n"
      ],
      "metadata": {
        "colab": {
          "base_uri": "https://localhost:8080/",
          "height": 35
        },
        "id": "DP6VGQKpXXve",
        "outputId": "95830557-5c51-45fd-bfb9-555ce645ddd5"
      },
      "execution_count": 68,
      "outputs": [
        {
          "output_type": "execute_result",
          "data": {
            "text/plain": [
              "'File written in /content/src/curand.cu'"
            ],
            "application/vnd.google.colaboratory.intrinsic+json": {
              "type": "string"
            }
          },
          "metadata": {},
          "execution_count": 68
        }
      ]
    },
    {
      "cell_type": "code",
      "source": [
        "!nvcc -o /content/src/curand /content/src/curand.cu -lcurand -lcublas"
      ],
      "metadata": {
        "id": "hdQ7r6VAm1wm"
      },
      "execution_count": 69,
      "outputs": []
    },
    {
      "cell_type": "code",
      "source": [
        "!/content/src/curand"
      ],
      "metadata": {
        "colab": {
          "base_uri": "https://localhost:8080/"
        },
        "id": "S_Zm2wv6XeMH",
        "outputId": "3c00c048-6726-4556-8366-ef6cffa7846b"
      },
      "execution_count": 70,
      "outputs": [
        {
          "output_type": "stream",
          "name": "stdout",
          "text": [
            "N = 1000\n",
            "PI CPU = 3.144\tCPU time = 1e-05\n",
            "PI GPU = 3.144\tGPU time = 2.4e-05"
          ]
        }
      ]
    }
  ]
}