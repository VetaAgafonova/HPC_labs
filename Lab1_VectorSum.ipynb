{
  "nbformat": 4,
  "nbformat_minor": 0,
  "metadata": {
    "colab": {
      "provenance": [],
      "toc_visible": true,
      "gpuType": "T4",
      "authorship_tag": "ABX9TyNiJwZ8+d0P/P3EY0mS88+p",
      "include_colab_link": true
    },
    "kernelspec": {
      "name": "python3",
      "display_name": "Python 3"
    },
    "language_info": {
      "name": "python"
    },
    "accelerator": "GPU"
  },
  "cells": [
    {
      "cell_type": "markdown",
      "metadata": {
        "id": "view-in-github",
        "colab_type": "text"
      },
      "source": [
        "<a href=\"https://colab.research.google.com/github/VetaAgafonova/HPC_labs/blob/VectorSum/Lab1_VectorSum.ipynb\" target=\"_parent\"><img src=\"https://colab.research.google.com/assets/colab-badge.svg\" alt=\"Open In Colab\"/></a>"
      ]
    },
    {
      "cell_type": "code",
      "execution_count": 1,
      "metadata": {
        "colab": {
          "base_uri": "https://localhost:8080/"
        },
        "id": "MFKMbqZHyVXP",
        "outputId": "b96e1bde-7165-4378-bbc6-37ea62e48475"
      },
      "outputs": [
        {
          "output_type": "stream",
          "name": "stdout",
          "text": [
            "nvcc: NVIDIA (R) Cuda compiler driver\n",
            "Copyright (c) 2005-2022 NVIDIA Corporation\n",
            "Built on Wed_Sep_21_10:33:58_PDT_2022\n",
            "Cuda compilation tools, release 11.8, V11.8.89\n",
            "Build cuda_11.8.r11.8/compiler.31833905_0\n",
            "Collecting git+https://github.com/andreinechaev/nvcc4jupyter.git\n",
            "  Cloning https://github.com/andreinechaev/nvcc4jupyter.git to /tmp/pip-req-build-z5el1wlv\n",
            "  Running command git clone --filter=blob:none --quiet https://github.com/andreinechaev/nvcc4jupyter.git /tmp/pip-req-build-z5el1wlv\n",
            "  Resolved https://github.com/andreinechaev/nvcc4jupyter.git to commit 0a71d56e5dce3ff1f0dd2c47c29367629262f527\n",
            "  Preparing metadata (setup.py) ... \u001b[?25l\u001b[?25hdone\n",
            "Building wheels for collected packages: NVCCPlugin\n",
            "  Building wheel for NVCCPlugin (setup.py) ... \u001b[?25l\u001b[?25hdone\n",
            "  Created wheel for NVCCPlugin: filename=NVCCPlugin-0.0.2-py3-none-any.whl size=4295 sha256=d753a7d7ceccce19e12df72f9b7cc15a213d02a8bfa0ccad94d11533e37585db\n",
            "  Stored in directory: /tmp/pip-ephem-wheel-cache-wtswyk86/wheels/a8/b9/18/23f8ef71ceb0f63297dd1903aedd067e6243a68ea756d6feea\n",
            "Successfully built NVCCPlugin\n",
            "Installing collected packages: NVCCPlugin\n",
            "Successfully installed NVCCPlugin-0.0.2\n",
            "created output directory at /content/src\n",
            "Out bin /content/result.out\n",
            "/bin/bash: line 1: cuda-install-samples-11.2.sh: command not found\n"
          ]
        }
      ],
      "source": [
        "!/usr/local/cuda/bin/nvcc --version\n",
        "!pip install git+https://github.com/andreinechaev/nvcc4jupyter.git\n",
        "%load_ext nvcc_plugin\n",
        "!cuda-install-samples-11.2.sh ~ && cd /root/NVIDIA_CUDA-11.2_Samples/"
      ]
    },
    {
      "cell_type": "code",
      "source": [
        "%%cuda --name curand.cu\n",
        "#include <stdio.h>\n",
        "#include <iostream>\n",
        "#include <thrust/host_vector.h>\n",
        "#include <thrust/device_vector.h>\n",
        "\n",
        "#define BLOCK_DIM_X 1000\n",
        "\n",
        "using namespace std;\n",
        "\n",
        "float vectorSum_cpu(float* vec, int n) {\n",
        "    float sum = 0;\n",
        "    for (size_t i = 0; i < n; ++i)\n",
        "        sum += vec[i];\n",
        "    return sum;\n",
        "}\n",
        "//Код функции ядра\n",
        "__global__ void vectorSum_gpu(float* vec, int n, float* res)\n",
        "{\n",
        "    __shared__ float temp[BLOCK_DIM_X];\n",
        "    int index = threadIdx.x + blockIdx.x * blockDim.x;\n",
        "    if (index < n)\n",
        "        temp[threadIdx.x] = vec[index];\n",
        "    __syncthreads();\n",
        "    if (threadIdx.x == 0) {\n",
        "        float sum = 0;\n",
        "        for (int i = 0; i < blockDim.x; ++i)\n",
        "            sum += temp[i];\n",
        "        atomicAdd(res, sum);\n",
        "    }\n",
        "}\n",
        "\n",
        "int main()\n",
        "{\n",
        "    int n = 1000000; //количество элементов в векторе\n",
        "\n",
        "    float* vec = new float[n];\n",
        "    for (size_t i = 0; i < n; ++i)\n",
        "        vec[i] = 1;\n",
        "\n",
        "    srand(time(0));\n",
        "    clock_t start, end;\n",
        "    start = clock();\n",
        "    float sum_cpu = vectorSum_cpu(vec, n);\n",
        "    end = clock();\n",
        "    double time_cpu = static_cast <double>(end - start) / static_cast <double>(CLOCKS_PER_SEC);\n",
        "    cout << \"\\nSum CPU = \" << sum_cpu << \"\\tCPU time = \" << time_cpu;\n",
        "\n",
        "    float* vecdev;\n",
        "    float* sum_gpu = new float;\n",
        "    *sum_gpu = 0;\n",
        "    float* sumdev;\n",
        "    //выделение памяти на устройстве\n",
        "    cudaMalloc(&vecdev, n * sizeof(float));\n",
        "    cudaMalloc(&sumdev, sizeof(float));\n",
        "    //копирование данных с хоста на девайс\n",
        "    cudaMemcpy(vecdev, vec, n * sizeof(float), cudaMemcpyHostToDevice);\n",
        "    cudaMemcpy(sumdev, sum_gpu, sizeof(float), cudaMemcpyHostToDevice);\n",
        "\n",
        "    dim3 block_dim(BLOCK_DIM_X);\n",
        "    dim3 grid_dim(ceil(static_cast <float> (n) / static_cast <float> (block_dim.x)));\n",
        "    //создание обработчиков событий\n",
        "    cudaEvent_t begin, stop;\n",
        "    cudaEventCreate(&begin);\n",
        "    cudaEventCreate(&stop);\n",
        "    //установка точки старта\n",
        "    cudaEventRecord(begin, 0);\n",
        "    //запуск ядра\n",
        "    vectorSum_gpu << <grid_dim, block_dim >> > (vecdev, n, sumdev);\n",
        "    //установка точки окончания\n",
        "    cudaEventRecord(stop, 0);\n",
        "    //синхронизация устройств\n",
        "    cudaEventSynchronize(stop);\n",
        "    float gpu_time;\n",
        "    //расчет времени\n",
        "    cudaEventElapsedTime(&gpu_time, begin, stop);\n",
        "    //копирование данных с девайса на хост\n",
        "    cudaMemcpy(sum_gpu, sumdev, sizeof(float), cudaMemcpyDeviceToHost);\n",
        "    cout << \"\\nSum GPU = \" << *sum_gpu << \"\\tGPU time = \" << gpu_time / 1000.;\n",
        "    //очищение памяти\n",
        "    cudaFree(vecdev);\n",
        "    delete[] vec;\n",
        "\n",
        "    return 0;\n",
        "}"
      ],
      "metadata": {
        "colab": {
          "base_uri": "https://localhost:8080/",
          "height": 35
        },
        "id": "pOVTmSWk1L4Y",
        "outputId": "203e78b2-4add-40c7-8718-e1eec75d8c89"
      },
      "execution_count": 87,
      "outputs": [
        {
          "output_type": "execute_result",
          "data": {
            "text/plain": [
              "'File written in /content/src/curand.cu'"
            ],
            "application/vnd.google.colaboratory.intrinsic+json": {
              "type": "string"
            }
          },
          "metadata": {},
          "execution_count": 87
        }
      ]
    },
    {
      "cell_type": "code",
      "source": [
        "!nvcc -o /content/src/curand /content/src/curand.cu -lcurand -lcublas"
      ],
      "metadata": {
        "id": "lXJF6OgD1M2Z"
      },
      "execution_count": 88,
      "outputs": []
    },
    {
      "cell_type": "code",
      "source": [
        "!/content/src/curand"
      ],
      "metadata": {
        "colab": {
          "base_uri": "https://localhost:8080/"
        },
        "id": "44yzrB5p1QEC",
        "outputId": "dae21172-09de-45c3-e30e-c5495a027741"
      },
      "execution_count": 89,
      "outputs": [
        {
          "output_type": "stream",
          "name": "stdout",
          "text": [
            "\n",
            "Sum CPU = 1e+06\tCPU time = 0.003799\n",
            "Sum GPU = 1e+06\tGPU time = 0.0003256"
          ]
        }
      ]
    }
  ]
}